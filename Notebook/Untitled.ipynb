{
 "cells": [
  {
   "cell_type": "markdown",
   "metadata": {},
   "source": [
    "# Digraph Class"
   ]
  },
  {
   "cell_type": "code",
   "execution_count": 4,
   "metadata": {},
   "outputs": [],
   "source": [
    "class DiGraph:\n",
    "    \n",
    "    def __init__(self):\n",
    "        \n",
    "        self.g = {}"
   ]
  },
  {
   "cell_type": "markdown",
   "metadata": {},
   "source": [
    "# Add Node & Add Edge Functions"
   ]
  },
  {
   "cell_type": "code",
   "execution_count": 5,
   "metadata": {},
   "outputs": [],
   "source": [
    "def addNode(self , node):\n",
    "    \n",
    "    if node in self.g:\n",
    "        raise ValueError(\"Node already in Graph\")\n",
    "        \n",
    "    self.g[node] = []\n",
    "    \n",
    "DiGraph.addNode = addNode\n",
    "\n",
    "\n",
    "def addEdge(self , src , dest):\n",
    "    \n",
    "    if src not in self.g:\n",
    "        raise ValueError(\"Source not in Graph\")\n",
    "    \n",
    "    if dest not in self.g:\n",
    "        raise ValueError(\"Destination not in Graph\")\n",
    "        \n",
    "    nexts = self.g[src]\n",
    "    \n",
    "    if dest in nexts:\n",
    "        return\n",
    "    \n",
    "    nexts.append(dest)\n",
    "    \n",
    "DiGraph.addEdge = addEdge"
   ]
  },
  {
   "cell_type": "code",
   "execution_count": 6,
   "metadata": {},
   "outputs": [
    {
     "name": "stdout",
     "output_type": "stream",
     "text": [
      "{'a': [], 'b': [], 'c': [], 'd': [], 'e': [], 'f': []}\n"
     ]
    }
   ],
   "source": [
    "G = DiGraph()\n",
    "Nodes = ['a' , 'b' , 'c' , 'd' , 'e' , 'f']\n",
    "\n",
    "\n",
    "\n",
    "for i in Nodes:\n",
    "    G.addNode(i)\n",
    "print(G.g)"
   ]
  },
  {
   "cell_type": "code",
   "execution_count": 7,
   "metadata": {},
   "outputs": [
    {
     "name": "stdout",
     "output_type": "stream",
     "text": [
      "{'a': ['b', 'c'], 'b': ['c', 'd'], 'c': ['d'], 'd': ['c'], 'e': ['f'], 'f': ['c']}\n"
     ]
    }
   ],
   "source": [
    "Edges = [\n",
    "    ('a' , 'b'),\n",
    "    ('a' , 'c'),\n",
    "    ('b' , 'c'),\n",
    "    ('b' , 'd'),\n",
    "    ('c' , 'd'),\n",
    "    ('d' , 'c'),\n",
    "    ('e' , 'f'),\n",
    "    ('f' , 'c')\n",
    "]\n",
    "\n",
    "for e in Edges:\n",
    "    G.addEdge(e[0] , e[1])\n",
    "print(G.g)"
   ]
  },
  {
   "cell_type": "markdown",
   "metadata": {},
   "source": [
    "# Traverse_Graph"
   ]
  },
  {
   "cell_type": "code",
   "execution_count": 8,
   "metadata": {},
   "outputs": [],
   "source": [
    "def traverse_graph(self , start):\n",
    "    \n",
    "    \"\"\"Traverse Graph from given start Node\"\"\"\n",
    "    \n",
    "    q = [start]\n",
    "    visited = []\n",
    "    \n",
    "    while q:\n",
    "        #pop(0) make it queue & pop() means stack\n",
    "        current = q.pop(0)\n",
    "        \n",
    "        #handling the condition a node if already in list\n",
    "        \n",
    "        if current in visited:\n",
    "            continue\n",
    "            \n",
    "        print(current) # we can perform any other operation in here too\n",
    "        \n",
    "        \n",
    "        visited.append(current)\n",
    "        \n",
    "        #get all next directed nodes\n",
    "        next_nodes = self.g[current]\n",
    "        \n",
    "        for n in next_nodes:\n",
    "            q.append(n)\n",
    "            \n",
    "DiGraph.traverse_graph = traverse_graph"
   ]
  },
  {
   "cell_type": "code",
   "execution_count": 9,
   "metadata": {},
   "outputs": [
    {
     "name": "stdout",
     "output_type": "stream",
     "text": [
      "a\n",
      "b\n",
      "c\n",
      "d\n"
     ]
    }
   ],
   "source": [
    "G.traverse_graph('a')"
   ]
  },
  {
   "cell_type": "markdown",
   "metadata": {},
   "source": [
    "# Path Finding"
   ]
  },
  {
   "cell_type": "code",
   "execution_count": 10,
   "metadata": {},
   "outputs": [],
   "source": [
    "def find_path(self , start , end , path=[]):\n",
    "    \n",
    "    #sanity check\n",
    "    if start  not in self.g:\n",
    "        raise ValueError(\"Value not found\")\n",
    "        \n",
    "    #this will append the path through which  we start\n",
    "    path = path + [start]\n",
    "    \n",
    "    #base case\n",
    "    if start == end:\n",
    "        return path\n",
    "    \n",
    "    for node in self.g[start]:\n",
    "        \n",
    "        #this will check if any loop is present or not\n",
    "        if node not in path: \n",
    "            \n",
    "            #recursive call for the next nodes to be checked\n",
    "            new_path = self.find_path(node , end , path)\n",
    "            \n",
    "            return new_path\n",
    "    #if nothing is find it will simply return None\n",
    "    return None\n",
    "\n",
    "DiGraph.find_path = find_path"
   ]
  },
  {
   "cell_type": "code",
   "execution_count": 14,
   "metadata": {},
   "outputs": [
    {
     "data": {
      "text/plain": [
       "['a', 'b']"
      ]
     },
     "execution_count": 14,
     "metadata": {},
     "output_type": "execute_result"
    }
   ],
   "source": [
    "G.find_path('a' , 'b')"
   ]
  },
  {
   "cell_type": "code",
   "execution_count": null,
   "metadata": {},
   "outputs": [],
   "source": []
  }
 ],
 "metadata": {
  "kernelspec": {
   "display_name": "Python 3",
   "language": "python",
   "name": "python3"
  },
  "language_info": {
   "codemirror_mode": {
    "name": "ipython",
    "version": 3
   },
   "file_extension": ".py",
   "mimetype": "text/x-python",
   "name": "python",
   "nbconvert_exporter": "python",
   "pygments_lexer": "ipython3",
   "version": "3.7.3"
  }
 },
 "nbformat": 4,
 "nbformat_minor": 2
}
